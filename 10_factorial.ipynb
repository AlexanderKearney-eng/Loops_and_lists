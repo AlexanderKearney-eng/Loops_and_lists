{
  "nbformat": 4,
  "nbformat_minor": 0,
  "metadata": {
    "colab": {
      "provenance": []
    },
    "kernelspec": {
      "name": "python3",
      "display_name": "Python 3"
    },
    "language_info": {
      "name": "python"
    }
  },
  "cells": [
    {
      "cell_type": "code",
      "execution_count": null,
      "metadata": {
        "colab": {
          "base_uri": "https://localhost:8080/"
        },
        "id": "CG9cPVV-7Zdl",
        "outputId": "c7354b37-a4e2-4c24-bbb4-07649f7972ac"
      },
      "outputs": [
        {
          "output_type": "stream",
          "name": "stdout",
          "text": [
            "This program takes an integer and calculates its factorial.\n",
            "Please enter a natural number: 52\n",
            "52! = 80658175170943878571660636856403766975289505440883277824000000000000\n"
          ]
        }
      ],
      "source": [
        "print(\"This program takes an integer and calculates its factorial.\")\n",
        "\n",
        "# Define the factorial function\n",
        "def factorial(n):\n",
        "  result = 1\n",
        "  for i in range(1, n+1 ):\n",
        "    result *= i\n",
        "  return result\n",
        "\n",
        "# Create an infinite loop to validate the input.\n",
        "while True:\n",
        "  n1 = input(\"Please enter a natural number: \")\n",
        "  try:\n",
        "    # Check whether the input is an integer and non-negative, using the following expression:\n",
        "    1 / ( abs(int(n1) + 1) + int(n1) + 1 )\n",
        "  except:\n",
        "    print(\"ERROR: Please enter a valid positive number.\")\n",
        "    continue\n",
        "  break\n",
        "\n",
        "# Compute the function\n",
        "sol = factorial(int(n1))\n",
        "print(f\"{n1}! = {sol}\")"
      ]
    },
    {
      "cell_type": "code",
      "source": [
        "def factorial(n):\n",
        "  result = 1\n",
        "  for i in range(1, n+1 ):\n",
        "    result *= i\n",
        "  return result\n",
        "\n",
        "\n",
        "powers_of_2 = [2 ** i for i in range(1,11)]\n",
        "near_one_k = [i for i in range(990, 1001)]\n",
        "\n",
        "l = 3\n",
        "print(l)\n",
        "iterative = [l]\n",
        "for i in range(1, 4):\n",
        "  x = factorial(iterative[i-1])\n",
        "  print(i, x)\n",
        "  iterative.append(x)\n",
        "\n",
        "print(\"Powers of 2:\")\n",
        "for i in range(0,10):\n",
        "  x = factorial(powers_of_2[i])\n",
        "  y = len(str(x))\n",
        "  print(f\"\\nThe length of 2^{i}! is {y}.\")\n",
        "\n",
        "print(f\"\\n\\n990-1000:\")\n",
        "for i in range(0,10):\n",
        "  x = factorial(near_one_k[i])\n",
        "  y = len(str(x))\n",
        "  z = 990 + i\n",
        "  print(f\"\\nThe length of 2^{z}! is {y}.\")\n",
        "\n",
        "print(f\"\\n\\nFactorials of factorials:\")\n",
        "for i in range(0,3):\n",
        "  x = factorial(iterative[i])\n",
        "  y = len(str(x))\n",
        "  print(f\"\\n2 put through the factorial process {i} times produces an integer of length {y}.\")"
      ],
      "metadata": {
        "colab": {
          "base_uri": "https://localhost:8080/"
        },
        "id": "0k3NuFzd8iJ0",
        "outputId": "672eee68-dc74-4392-c302-81faafa9cc79"
      },
      "execution_count": null,
      "outputs": [
        {
          "output_type": "stream",
          "name": "stdout",
          "text": [
            "3\n",
            "1 6\n",
            "2 720\n",
            "3 2601218943565795100204903227081043611191521875016945785727541837850835631156947382240678577958130457082619920575892247259536641565162052015873791984587740832529105244690388811884123764341191951045505346658616243271940197113909845536727278537099345629855586719369774070003700430783758997420676784016967207846280629229032107161669867260548988445514257193985499448939594496064045132362140265986193073249369770477606067680670176491669403034819961881455625195592566918830825514942947596537274845624628824234526597789737740896466553992435928786212515967483220976029505696699927284670563747137533019248313587076125412683415860129447566011455420749589952563543068288634631084965650682771552996256790845235702552186222358130016700834523443236821935793184701956510729781804354173890560727428048583995919729021726612291298420516067579036232337699453964191475175567557695392233803056825308599977441675784352815913461340394604901269542028838347101363733824484506660093348484440711931292537694657354337375724772230181534032647177531984537341478674327048457983786618703257405938924215709695994630557521063203263493209220738320923356309923267504401701760572026010829288042335606643089888710297380797578013056049576342838683057190662205291174822510536697756603029574043387983471518552602805333866357139101046336419769097397432285994219837046979109956303389604675889865795711176566670039156748153115943980043625399399731203066490601325311304719028898491856203766669164468791125249193754425845895000311561682974304641142538074897281723375955380661719801404677935614793635266265683339509760000000000000000000000000000000000000000000000000000000000000000000000000000000000000000000000000000000000000000000000000000000000000000000000000000000000000000000000000000000000\n",
            "Powers of 2:\n",
            "\n",
            "The length of 2^0! is 1.\n",
            "\n",
            "The length of 2^1! is 2.\n",
            "\n",
            "The length of 2^2! is 5.\n",
            "\n",
            "The length of 2^3! is 14.\n",
            "\n",
            "The length of 2^4! is 36.\n",
            "\n",
            "The length of 2^5! is 90.\n",
            "\n",
            "The length of 2^6! is 216.\n",
            "\n",
            "The length of 2^7! is 507.\n",
            "\n",
            "The length of 2^8! is 1167.\n",
            "\n",
            "The length of 2^9! is 2640.\n",
            "\n",
            "\n",
            "990-1000:\n",
            "\n",
            "The length of 2^990! is 2538.\n",
            "\n",
            "The length of 2^991! is 2541.\n",
            "\n",
            "The length of 2^992! is 2544.\n",
            "\n",
            "The length of 2^993! is 2547.\n",
            "\n",
            "The length of 2^994! is 2550.\n",
            "\n",
            "The length of 2^995! is 2553.\n",
            "\n",
            "The length of 2^996! is 2556.\n",
            "\n",
            "The length of 2^997! is 2559.\n",
            "\n",
            "The length of 2^998! is 2562.\n",
            "\n",
            "The length of 2^999! is 2565.\n",
            "\n",
            "\n",
            "Factorials of factorials:\n",
            "\n",
            "2 put through the factorial process 0 times produces an integer of length 1.\n",
            "\n",
            "2 put through the factorial process 1 times produces an integer of length 3.\n",
            "\n",
            "2 put through the factorial process 2 times produces an integer of length 1747.\n"
          ]
        }
      ]
    },
    {
      "cell_type": "code",
      "source": [
        "97-18"
      ],
      "metadata": {
        "colab": {
          "base_uri": "https://localhost:8080/"
        },
        "id": "K6o5oDbvPFxO",
        "outputId": "dd75a4de-e16b-4e06-c72c-654aada1fcbf"
      },
      "execution_count": null,
      "outputs": [
        {
          "output_type": "execute_result",
          "data": {
            "text/plain": [
              "79"
            ]
          },
          "metadata": {},
          "execution_count": 77
        }
      ]
    },
    {
      "cell_type": "code",
      "source": [
        "import functools as ft"
      ],
      "metadata": {
        "id": "rmXWfWgNPH4c"
      },
      "execution_count": null,
      "outputs": []
    },
    {
      "cell_type": "code",
      "source": [
        "ft.reduce(lambda x, y: x+y, [1,2,3,4,5])"
      ],
      "metadata": {
        "colab": {
          "base_uri": "https://localhost:8080/"
        },
        "id": "Bc0gDGHTqisO",
        "outputId": "4857677a-b12b-4089-ed26-0876af37c14d"
      },
      "execution_count": null,
      "outputs": [
        {
          "output_type": "execute_result",
          "data": {
            "text/plain": [
              "15"
            ]
          },
          "metadata": {},
          "execution_count": 6
        }
      ]
    },
    {
      "cell_type": "code",
      "source": [
        "ft.reduce(lambda x, y: x*y, range(1,5))"
      ],
      "metadata": {
        "colab": {
          "base_uri": "https://localhost:8080/"
        },
        "id": "E1eshDKIscjS",
        "outputId": "50edd191-69a0-4014-daf0-a829e7d6892d"
      },
      "execution_count": null,
      "outputs": [
        {
          "output_type": "execute_result",
          "data": {
            "text/plain": [
              "24"
            ]
          },
          "metadata": {},
          "execution_count": 28
        }
      ]
    },
    {
      "cell_type": "code",
      "source": [
        "# I originally thought use n to generate a list and then apply ft.reduce() to that list. Like this:\n",
        "def f(n):\n",
        "  result = ft.reduce(lambda x, y: x*y, range(1,n+1))\n",
        "  return result\n",
        "\n",
        "# However, this creates a need to handle 0 separately, since ft.reduce() over [1,0] fails.\n",
        "\n",
        "# So, instead try:\n",
        "\n",
        "# Nvm. I think this is actually the correct result.\n",
        "\n",
        "f(0)"
      ],
      "metadata": {
        "colab": {
          "base_uri": "https://localhost:8080/",
          "height": 297
        },
        "id": "XLdFXnR4sjjn",
        "outputId": "337dbe8f-eb66-45a3-d5fd-5002936dea9d"
      },
      "execution_count": null,
      "outputs": [
        {
          "output_type": "error",
          "ename": "TypeError",
          "evalue": "reduce() of empty iterable with no initial value",
          "traceback": [
            "\u001b[0;31m---------------------------------------------------------------------------\u001b[0m",
            "\u001b[0;31mTypeError\u001b[0m                                 Traceback (most recent call last)",
            "\u001b[0;32m<ipython-input-34-344059894c65>\u001b[0m in \u001b[0;36m<cell line: 12>\u001b[0;34m()\u001b[0m\n\u001b[1;32m     10\u001b[0m \u001b[0;31m# Nvm. I think this is actually the correct result.\u001b[0m\u001b[0;34m\u001b[0m\u001b[0;34m\u001b[0m\u001b[0m\n\u001b[1;32m     11\u001b[0m \u001b[0;34m\u001b[0m\u001b[0m\n\u001b[0;32m---> 12\u001b[0;31m \u001b[0mf\u001b[0m\u001b[0;34m(\u001b[0m\u001b[0;36m0\u001b[0m\u001b[0;34m)\u001b[0m\u001b[0;34m\u001b[0m\u001b[0;34m\u001b[0m\u001b[0m\n\u001b[0m",
            "\u001b[0;32m<ipython-input-34-344059894c65>\u001b[0m in \u001b[0;36mf\u001b[0;34m(n)\u001b[0m\n\u001b[1;32m      1\u001b[0m \u001b[0;31m# I originally thought use n to generate a list and then apply ft.reduce() to that list. Like this:\u001b[0m\u001b[0;34m\u001b[0m\u001b[0;34m\u001b[0m\u001b[0m\n\u001b[1;32m      2\u001b[0m \u001b[0;32mdef\u001b[0m \u001b[0mf\u001b[0m\u001b[0;34m(\u001b[0m\u001b[0mn\u001b[0m\u001b[0;34m)\u001b[0m\u001b[0;34m:\u001b[0m\u001b[0;34m\u001b[0m\u001b[0;34m\u001b[0m\u001b[0m\n\u001b[0;32m----> 3\u001b[0;31m   \u001b[0mresult\u001b[0m \u001b[0;34m=\u001b[0m \u001b[0mft\u001b[0m\u001b[0;34m.\u001b[0m\u001b[0mreduce\u001b[0m\u001b[0;34m(\u001b[0m\u001b[0;32mlambda\u001b[0m \u001b[0mx\u001b[0m\u001b[0;34m,\u001b[0m \u001b[0my\u001b[0m\u001b[0;34m:\u001b[0m \u001b[0mx\u001b[0m\u001b[0;34m*\u001b[0m\u001b[0my\u001b[0m\u001b[0;34m,\u001b[0m \u001b[0mrange\u001b[0m\u001b[0;34m(\u001b[0m\u001b[0;36m1\u001b[0m\u001b[0;34m,\u001b[0m\u001b[0mn\u001b[0m\u001b[0;34m+\u001b[0m\u001b[0;36m1\u001b[0m\u001b[0;34m)\u001b[0m\u001b[0;34m)\u001b[0m\u001b[0;34m\u001b[0m\u001b[0;34m\u001b[0m\u001b[0m\n\u001b[0m\u001b[1;32m      4\u001b[0m   \u001b[0;32mreturn\u001b[0m \u001b[0mresult\u001b[0m\u001b[0;34m\u001b[0m\u001b[0;34m\u001b[0m\u001b[0m\n\u001b[1;32m      5\u001b[0m \u001b[0;34m\u001b[0m\u001b[0m\n",
            "\u001b[0;31mTypeError\u001b[0m: reduce() of empty iterable with no initial value"
          ]
        }
      ]
    },
    {
      "cell_type": "code",
      "source": [],
      "metadata": {
        "colab": {
          "base_uri": "https://localhost:8080/",
          "height": 141
        },
        "id": "xb-3Qkpav5py",
        "outputId": "08a5f31e-8ed4-40e6-ae4a-aa3c0896d7f8"
      },
      "execution_count": null,
      "outputs": [
        {
          "output_type": "error",
          "ename": "TypeError",
          "evalue": "<lambda>() takes 1 positional argument but 2 were given",
          "traceback": [
            "\u001b[0;31m---------------------------------------------------------------------------\u001b[0m",
            "\u001b[0;31mTypeError\u001b[0m                                 Traceback (most recent call last)",
            "\u001b[0;32m<ipython-input-27-b1ca3e440b62>\u001b[0m in \u001b[0;36m<cell line: 1>\u001b[0;34m()\u001b[0m\n\u001b[0;32m----> 1\u001b[0;31m \u001b[0mft\u001b[0m\u001b[0;34m.\u001b[0m\u001b[0mreduce\u001b[0m\u001b[0;34m(\u001b[0m\u001b[0;32mlambda\u001b[0m \u001b[0mx\u001b[0m\u001b[0;34m:\u001b[0m \u001b[0mx\u001b[0m\u001b[0;34m*\u001b[0m\u001b[0;34m(\u001b[0m\u001b[0mx\u001b[0m\u001b[0;34m+\u001b[0m\u001b[0;36m1\u001b[0m\u001b[0;34m)\u001b[0m\u001b[0;34m,\u001b[0m \u001b[0mrange\u001b[0m\u001b[0;34m(\u001b[0m\u001b[0;36m1\u001b[0m\u001b[0;34m,\u001b[0m\u001b[0;36m6\u001b[0m\u001b[0;34m)\u001b[0m\u001b[0;34m)\u001b[0m\u001b[0;34m\u001b[0m\u001b[0;34m\u001b[0m\u001b[0m\n\u001b[0m",
            "\u001b[0;31mTypeError\u001b[0m: <lambda>() takes 1 positional argument but 2 were given"
          ]
        }
      ]
    },
    {
      "cell_type": "code",
      "source": [
        "print(\"This program takes an integer and calculates its factorial.\")\n",
        "\n",
        "# Define the new factorial function\n",
        "def newfac(n):\n",
        "  if n == 0:\n",
        "    return 1\n",
        "  return ft.reduce(lambda x, y: x*y, range(1, n+1))\n",
        "\n",
        "# Create an infinite loop to validate the input.\n",
        "while True:\n",
        "  m = input(\"Please enter a natural number: \")\n",
        "  print(m)\n",
        "  try:\n",
        "    m = int(m)\n",
        "    if m < 0:\n",
        "      raise ValueError\n",
        "    else:\n",
        "      break\n",
        "  except:\n",
        "    print(\"ERROR: Please enter a valid non-negative number.\")\n",
        "    continue\n",
        "\n",
        "# Compute the function\n",
        "soln = newfac(int(m))\n",
        "print(f\"{m}! = {soln}\")"
      ],
      "metadata": {
        "colab": {
          "base_uri": "https://localhost:8080/"
        },
        "id": "VUUP88rlvjIo",
        "outputId": "73920952-09db-48f6-b5f6-0a66e349e040"
      },
      "execution_count": null,
      "outputs": [
        {
          "output_type": "stream",
          "name": "stdout",
          "text": [
            "This program takes an integer and calculates its factorial.\n",
            "Please enter a natural number: 1\n",
            "1\n",
            "1! = 1\n"
          ]
        }
      ]
    },
    {
      "cell_type": "code",
      "source": [],
      "metadata": {
        "id": "UDXfmlLWyqpg"
      },
      "execution_count": null,
      "outputs": []
    }
  ]
}