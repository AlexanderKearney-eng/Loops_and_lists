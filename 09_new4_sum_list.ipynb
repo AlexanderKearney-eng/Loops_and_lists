{
  "nbformat": 4,
  "nbformat_minor": 0,
  "metadata": {
    "colab": {
      "provenance": []
    },
    "kernelspec": {
      "name": "python3",
      "display_name": "Python 3"
    },
    "language_info": {
      "name": "python"
    }
  },
  "cells": [
    {
      "cell_type": "code",
      "source": [
        "# Alexander finalised solution\n",
        "\n",
        "print(\"This program takes a list of numbers and adds them all up.\")\n",
        "\n",
        "# Define a function to process inputs\n",
        "def process_text(term, u):\n",
        "  try:\n",
        "    if u == 'whitespace':\n",
        "      return [float(i) for i in term.split()], term\n",
        "    else:\n",
        "      return [float(i) for i in term.split(u)], term\n",
        "  except ValueError:\n",
        "    return None, term\n",
        "\n",
        "# Infinite loop until input passes validation:\n",
        "while True:\n",
        "  # Collect and process the input\n",
        "  user_text = input(\"Please enter the numbers you would like to sum: \")\n",
        "  output = process_text(user_text, ',')\n",
        "\n",
        "  # Check whether the input is empty\n",
        "  if user_text.split() == []:\n",
        "    print(\"Error: empty inputs are not valid.\")\n",
        "    continue\n",
        "\n",
        "  # Send valid inputs to calculation\n",
        "  if type(output[0]) == list:\n",
        "    final_list = output[0]\n",
        "    break\n",
        "\n",
        "  # Check invalid inputs for missing commas\n",
        "  if output[0] == None:\n",
        "    proc_terms = [process_text(term, 'whitespace') for term in user_text.split(',')]\n",
        "\n",
        "    # If missing commas aren't the issue, restart the loop\n",
        "    try:\n",
        "      [len(x[0]) for x in proc_terms]\n",
        "    except:\n",
        "      print(\"ERROR: Each term must be a valid number.\")\n",
        "      continue\n",
        "\n",
        "    # Otherwise, include corrected terms in the final sun\n",
        "    final_list = []\n",
        "    warnings = []\n",
        "    for x in proc_terms:\n",
        "      final_list += x[0]\n",
        "      if len(x[0]) > 1:\n",
        "        warnings.append(x)\n",
        "\n",
        "    print(warnings)\n",
        "\n",
        "  # Exit the loop if input passes validation\n",
        "  break\n",
        "\n",
        "# Warn if appropriate\n",
        "if len(warnings) > 0:\n",
        "  warning_st = \"', '\".join(map(str, [x[1] for x in warnings]))\n",
        "  warning_lst = ', '.join(map(str, [x[0] for x in warnings])).replace(\"[\", \"\").replace(\"]\", \"\")\n",
        "  print(f\"WARNING: The terms '{warning_st}' are invalid, and have been converted into {warning_lst} for the calculation.\")\n",
        "\n",
        "# Complete the calculation\n",
        "result = sum(final_list)\n",
        "print(f\"The sum of {user_text} is {result}.\")"
      ],
      "metadata": {
        "id": "JQLlvn1Utl1p",
        "colab": {
          "base_uri": "https://localhost:8080/"
        },
        "outputId": "bf73a1f2-d725-466c-eb75-10d2b3038ef2"
      },
      "execution_count": 23,
      "outputs": [
        {
          "output_type": "stream",
          "name": "stdout",
          "text": [
            "This program takes a list of numbers and adds them all up.\n",
            "Please enter the numbers you would like to sum: 1     2, 3, 4 5\n",
            "[([1.0, 2.0], '1     2'), ([4.0, 5.0], ' 4 5')]\n",
            "WARNING: The terms '1     2', ' 4 5' are invalid, and have been converted into 1.0, 2.0, 4.0, 5.0 for the calculation.\n",
            "The sum of 1     2, 3, 4 5 is 15.0.\n"
          ]
        }
      ]
    },
    {
      "cell_type": "code",
      "source": [
        "# ChatGPT improved solution\n",
        "\n",
        "# Note: this solution didn't work because it didn't handle edge cases as well, so my code actually beat it.\n",
        "# However, probably best to combine both approaches of using a validation function instead of validating in long, complex chunks.\n",
        "\n",
        "print(\"This program takes a list of numbers and adds them all up.\")\n",
        "\n",
        "# Function to process input text with a specified delimiter\n",
        "def process_text(term, delimiter):\n",
        "    try:\n",
        "        # Split and convert terms into floats\n",
        "        return [float(i) for i in term.split(delimiter)], None\n",
        "    except ValueError:\n",
        "        # Return None and the original term if conversion fails\n",
        "        return None, term\n",
        "\n",
        "# Function to validate and correct user input\n",
        "def validate_and_correct(user_text):\n",
        "    warnings = []\n",
        "    final_list = []\n",
        "\n",
        "    # Split input by commas first, then handle each term\n",
        "    terms = user_text.split(',')\n",
        "    for term in terms:\n",
        "        term = term.strip()\n",
        "        parsed, warning = process_text(term, ' ')  # Process further with whitespace as delimiter\n",
        "        if parsed:  # Successfully parsed the term\n",
        "            final_list.extend(parsed)\n",
        "            if len(parsed) > 1:  # Add to warnings if multiple numbers were found\n",
        "                warnings.append(term)\n",
        "        else:  # If parsing fails entirely, raise an error\n",
        "            raise ValueError(f\"Invalid input detected: {term}\")\n",
        "\n",
        "    return final_list, warnings\n",
        "\n",
        "# Main loop for input validation\n",
        "while True:\n",
        "    user_text = input(\"Please enter the numbers you would like to sum: \").strip()\n",
        "\n",
        "    # Check for empty input\n",
        "    if not user_text:\n",
        "        print(\"Error: empty inputs are not valid.\")\n",
        "        continue\n",
        "\n",
        "    try:\n",
        "        final_list, warnings = validate_and_correct(user_text)\n",
        "        break  # Exit the loop if validation passes\n",
        "    except ValueError as e:\n",
        "        print(\"ERROR:\", str(e))\n",
        "        continue\n",
        "\n",
        "# Display warnings if there are any\n",
        "if warnings:\n",
        "    warning_terms = \"', '\".join(warnings)\n",
        "    print(f\"WARNING: The terms '{warning_terms}' contained missing commas but were parsed successfully.\")\n",
        "\n",
        "# Compute the sum and display the result\n",
        "result = sum(final_list)\n",
        "print(f\"The sum of {user_text} is {result}.\")\n"
      ],
      "metadata": {
        "colab": {
          "base_uri": "https://localhost:8080/"
        },
        "id": "W5s-1zd6HHT5",
        "outputId": "16201651-e59d-4bce-dc1b-61d6b9acf3b8"
      },
      "execution_count": 27,
      "outputs": [
        {
          "output_type": "stream",
          "name": "stdout",
          "text": [
            "This program takes a list of numbers and adds them all up.\n",
            "Please enter the numbers you would like to sum: \n",
            "Error: empty inputs are not valid.\n",
            "Please enter the numbers you would like to sum:       \n",
            "Error: empty inputs are not valid.\n",
            "Please enter the numbers you would like to sum: 1    2, 3, 4 5, 6,     7 8 , 9\n",
            "ERROR: Invalid input detected: 1    2\n",
            "Please enter the numbers you would like to sum: 1, 2, 3, 4\n",
            "The sum of 1, 2, 3, 4 is 10.0.\n"
          ]
        }
      ]
    }
  ]
}