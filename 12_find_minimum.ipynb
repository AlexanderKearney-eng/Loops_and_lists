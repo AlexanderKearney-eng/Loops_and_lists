{
  "nbformat": 4,
  "nbformat_minor": 0,
  "metadata": {
    "colab": {
      "provenance": [],
      "authorship_tag": "ABX9TyNgG1o8wHz2ISfqdKrWAmcN",
      "include_colab_link": true
    },
    "kernelspec": {
      "name": "python3",
      "display_name": "Python 3"
    },
    "language_info": {
      "name": "python"
    }
  },
  "cells": [
    {
      "cell_type": "markdown",
      "metadata": {
        "id": "view-in-github",
        "colab_type": "text"
      },
      "source": [
        "<a href=\"https://colab.research.google.com/github/AlexanderKearney-eng/Loops_and_lists/blob/main/12_find_minimum.ipynb\" target=\"_parent\"><img src=\"https://colab.research.google.com/assets/colab-badge.svg\" alt=\"Open In Colab\"/></a>"
      ]
    },
    {
      "cell_type": "code",
      "execution_count": 16,
      "metadata": {
        "colab": {
          "base_uri": "https://localhost:8080/"
        },
        "id": "q3Bui1yxnGjp",
        "outputId": "7643f9f3-d9f6-4d29-bb1b-ea6312de9b9c"
      },
      "outputs": [
        {
          "output_type": "stream",
          "name": "stdout",
          "text": [
            "This function takes a list of numbers and finds their mminimum.\n",
            "To get optimum results, please separate each number by a comma.\n",
            "Please enter your list of numbers: 4, 10, 2, 999, 683, 200\n",
            "The minimum of 4, 10, 2, 999, 683, 200 is 2.0.\n"
          ]
        }
      ],
      "source": [
        "print(\"This function takes a list of numbers and finds their mminimum.\")\n",
        "print(\"To get optimum results, please separate each number by a comma.\")\n",
        "\n",
        "# Function to process input text with a specified delimiter\n",
        "def process_text(term, delimiter=None):\n",
        "  try:\n",
        "    if delimiter:\n",
        "      return [float(i) for i in term.split(delimiter)], None\n",
        "    else:\n",
        "      return [float(i) for i in term.split()], None\n",
        "  except ValueError:\n",
        "    return None, term\n",
        "\n",
        "# Function to validate and correct user input\n",
        "def validate_and_correct(text):\n",
        "  warnings = []\n",
        "  final_list = []\n",
        "  # Process the original entry\n",
        "  parsed, _ = process_text(text, ',')\n",
        "  if parsed:     # Successfully parsed text\n",
        "    final_list.extend(parsed)\n",
        "  # If unable to process, investigate for missing commas\n",
        "  else:\n",
        "    for term in text.split(','):\n",
        "      term = term.strip()\n",
        "      parsed, warning = process_text(term, None)\n",
        "      if parsed:       # Successfully parsed term\n",
        "        final_list.extend(parsed)\n",
        "        if len(parsed) > 1:   # Add to warnings if multiple numbers were found\n",
        "          warnings.append(term)\n",
        "      else:    # If parsing completely fails, raise a value error\n",
        "        raise ValueError(f\"Invalid input detected: {term}\")\n",
        "  return final_list, warnings\n",
        "\n",
        "\n",
        "# Main loop for input validation\n",
        "while True:\n",
        "  user_text = input(\"Please enter your list of numbers: \")\n",
        "\n",
        "  # Check for empty input\n",
        "  if user_text.split() == []:\n",
        "    print(\"ERROR: empty inputs are not valid\")\n",
        "    continue\n",
        "\n",
        "  # Collect final list for valid inputs\n",
        "  try:\n",
        "    final_list, warnings = validate_and_correct(user_text)\n",
        "    break      # break the loop if input is valid\n",
        "  except ValueError as e:\n",
        "    print(\"ERROR:\", str(e))\n",
        "    continue\n",
        "\n",
        "# Display warnings if there are any\n",
        "if warnings:\n",
        "  warning_terms = \"', '\".join(warnings)\n",
        "  print(f\"WARNING: the terms {warning_terms} contained no commas but were parsed successfully.\")\n",
        "\n",
        "# Compute the sum and display the result\n",
        "result = min(final_list)\n",
        "print(f\"The minimum of {user_text} is {result}.\")"
      ]
    },
    {
      "cell_type": "code",
      "source": [
        "min(['30000', '200', '3', '4', '5'])"
      ],
      "metadata": {
        "colab": {
          "base_uri": "https://localhost:8080/",
          "height": 35
        },
        "id": "VmeRWWaYnKQL",
        "outputId": "be1bed7f-3550-4cd8-8834-61b0259e3c0f"
      },
      "execution_count": 13,
      "outputs": [
        {
          "output_type": "execute_result",
          "data": {
            "text/plain": [
              "'200'"
            ],
            "application/vnd.google.colaboratory.intrinsic+json": {
              "type": "string"
            }
          },
          "metadata": {},
          "execution_count": 13
        }
      ]
    }
  ]
}