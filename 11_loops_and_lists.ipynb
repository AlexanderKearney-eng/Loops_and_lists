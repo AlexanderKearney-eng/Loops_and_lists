{
  "nbformat": 4,
  "nbformat_minor": 0,
  "metadata": {
    "colab": {
      "provenance": []
    },
    "kernelspec": {
      "name": "python3",
      "display_name": "Python 3"
    },
    "language_info": {
      "name": "python"
    }
  },
  "cells": [
    {
      "cell_type": "code",
      "execution_count": 12,
      "metadata": {
        "colab": {
          "base_uri": "https://localhost:8080/"
        },
        "id": "QhIEZ3FfunK_",
        "outputId": "167a470f-e9d3-4a01-bdfe-50169c1d269c"
      },
      "outputs": [
        {
          "output_type": "stream",
          "name": "stdout",
          "text": [
            "Please enter two numbers separated by a comma: m, 16\n",
            "Error: both terms must be whole numbers greater than zero.\n",
            "Please enter two numbers separated by a comma: 8, 17\n",
            "8 17\n",
            "8 x 1          =         8\n",
            "8 x 2          =         16\n",
            "8 x 3          =         24\n",
            "8 x 4          =         32\n",
            "8 x 5          =         40\n",
            "8 x 6          =         48\n",
            "8 x 7          =         56\n",
            "8 x 8          =         64\n",
            "8 x 9          =         72\n",
            "8 x 10         =         80\n",
            "8 x 11         =         88\n",
            "8 x 12         =         96\n",
            "8 x 13         =         104\n",
            "8 x 14         =         112\n",
            "8 x 15         =         120\n",
            "8 x 16         =         128\n",
            "8 x 17         =         136\n"
          ]
        }
      ],
      "source": [
        "# Create function to validate input\n",
        "def validate_entry(text):\n",
        "\n",
        "  # Check there are precisely two inputs\n",
        "  if len(text.split(',')) != 2:\n",
        "    print(\"Error: you must enter precisely two inputs separated by a comma.\")\n",
        "    raise ValueError\n",
        "\n",
        "  # Check each entry is a positive integer\n",
        "  try:\n",
        "    n1, n2 = [int(n) for n in text.split(',')]\n",
        "    print(n1, n2)\n",
        "    if n1 * n2 == 0:\n",
        "      raise ValueError\n",
        "  except:\n",
        "    print(\"Error: both terms must be whole numbers greater than zero.\")\n",
        "    raise ValueError\n",
        "\n",
        "# Create an infinite loop to validate input\n",
        "while True:\n",
        "\n",
        "  # Collect user input\n",
        "  nums = input(\"Please enter two numbers separated by a comma: \")\n",
        "\n",
        "  # Validate input\n",
        "  try:\n",
        "    validate_entry(nums)\n",
        "    break\n",
        "  except:\n",
        "    continue\n",
        "\n",
        "# Generate the multiplicati0n table\n",
        "m1, m2 = [int(n) for n in nums.split(',')]\n",
        "m2 = m2 + 1\n",
        "for i in range(1, m2):\n",
        "  j = m1 * i\n",
        "  print(f\"{m1} x {i}\".ljust(14), \"=\".ljust(9), j)\n"
      ]
    },
    {
      "cell_type": "code",
      "source": [],
      "metadata": {
        "colab": {
          "base_uri": "https://localhost:8080/"
        },
        "id": "p4wDPeRHzDB7",
        "outputId": "5350857d-912a-4ccf-8c52-192616c9f910"
      },
      "execution_count": 7,
      "outputs": [
        {
          "output_type": "execute_result",
          "data": {
            "text/plain": [
              "0"
            ]
          },
          "metadata": {},
          "execution_count": 7
        }
      ]
    },
    {
      "cell_type": "code",
      "source": [],
      "metadata": {
        "id": "L1EHPYRV1Otv"
      },
      "execution_count": null,
      "outputs": []
    }
  ]
}